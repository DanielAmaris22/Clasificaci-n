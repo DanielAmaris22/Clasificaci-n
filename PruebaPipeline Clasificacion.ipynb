{
 "cells": [
  {
   "cell_type": "code",
   "execution_count": null,
   "id": "4729c08a-5f72-4a42-9805-7fe99de49dd3",
   "metadata": {},
   "outputs": [],
   "source": [
    "######## Integrantes\n",
    "Mariana Leon Rodriguez\n",
    "Daniel Santiago Amarís Martínez"
   ]
  },
  {
   "cell_type": "code",
   "execution_count": 6,
   "id": "ffdf2069-c559-490d-a823-c6b7f28409d8",
   "metadata": {},
   "outputs": [],
   "source": [
    "import numpy as np\n",
    "import pandas as pd\n",
    "from sklearn.metrics import accuracy_score, make_scorer\n",
    "from sklearn.model_selection import GridSearchCV, train_test_split\n",
    "from sklearn import preprocessing\n",
    "from sklearn.linear_model import LogisticRegression\n",
    "import warnings\n",
    "warnings.filterwarnings(\"ignore\")"
   ]
  },
  {
   "cell_type": "code",
   "execution_count": 7,
   "id": "1a7217e4-ee76-4460-8986-cfc672b46dcd",
   "metadata": {},
   "outputs": [],
   "source": [
    "class Modelo_clasificacion:\n",
    "    def __init__(self):\n",
    "        pass\n",
    "    def load_data(self):\n",
    "        path = \"C:/Users/danie/Downloads/\"\n",
    "        dataset = pd.read_csv(path + \"iris_dataset.csv\",sep = \";\",decimal=\",\")\n",
    "        prueba = pd.read_csv(path + \"iris_prueba.csv\",sep = \";\",decimal=\",\")\n",
    "        covariables = [ x for x in dataset.columns if x not in [\"y\"] ]\n",
    "        X = dataset.get(covariables)\n",
    "        y = dataset[\"y\"]\n",
    "        X_nuevo = prueba.get(covariables)\n",
    "        y_nuevo = prueba[\"y\"]\n",
    "        return X, y, X_nuevo, y_nuevo\n",
    "    \n",
    "    def estandarizacion(self, X):\n",
    "        Z = preprocessing.StandardScaler()\n",
    "        Z.fit(X) \n",
    "        X_Z = Z.transform(X) \n",
    "        return Z, X_Z\n",
    "    \n",
    "    def trainning_model(self):\n",
    "        X,y,X_nuevo, y_nuevo = self.load_data()\n",
    "\n",
    "        X_train, X_test, y_train, y_test= train_test_split(X,y,test_size=0.5)\n",
    "        Z_1, X_train_Z = self.estandarizacion(X_train)\n",
    "        X_test_Z = Z_1.transform(X_test)\n",
    "        modelo1 = LogisticRegression(random_state = 123)\n",
    "        parametros = {'C' : np.arange(0.1, 5.1, 0.1)}\n",
    "        grilla1 = GridSearchCV( estimator = modelo1, param_grid = parametros,\n",
    "                               scoring = make_scorer(accuracy_score), cv = 5, n_jobs = -1)\n",
    "        grilla1.fit(X_train_Z, y_train)\n",
    "        Z_2 = preprocessing.StandardScaler() \n",
    "        Z_2.fit(X_test)\n",
    "        X_test_Z = Z_2.transform(X_test) \n",
    "        X_train_Z = Z_2.transform(X_train)\n",
    "        modelo2 = LogisticRegression(random_state=123)\n",
    "        grilla2 = GridSearchCV( estimator = modelo2, param_grid = parametros,\n",
    "          scoring = make_scorer(accuracy_score), cv = 5, n_jobs = -1)\n",
    "        grilla2.fit(X_test_Z,y_test)\n",
    "        y_hat_test = grilla1.predict(X_test_Z)\n",
    "        y_hat_train = grilla2.predict(X_train_Z)\n",
    "        u1 = accuracy_score(y_test, y_hat_test)\n",
    "        u2 = accuracy_score(y_train, y_hat_train)\n",
    "        Z, X_Z = self.estandarizacion(X)\n",
    "        X_nuevo_Z = Z.transform(X_nuevo)\n",
    "        if np.abs(u1-u2) < 10:\n",
    "            modelo_completo = LogisticRegression(random_state = 123)\n",
    "            grilla_completa = GridSearchCV(estimator = modelo_completo, param_grid = parametros,\n",
    "                                       scoring = make_scorer(accuracy_score), cv = 5,n_jobs = -1)\n",
    "            grilla_completa.fit(X_Z, y)\n",
    "        else:\n",
    "            grilla_completa = LogisticRegression(random_state = 123)\n",
    "            grilla_completa.fit(X_Z, y)\n",
    "        return X_nuevo_Z, grilla_completa\n",
    "    def prediccion(self, X_nuevo_Z, grilla_completa):\n",
    "        y_hat_nuevo = grilla_completa.predict(X_nuevo_Z)\n",
    "        return y_hat_nuevo\n",
    "    def evaluacion (self, y, y_hat_nuevo):\n",
    "        return accuracy_score(y, y_hat_nuevo)\n",
    "    def modeloClasificacion(self):\n",
    "        try:\n",
    "            X, y, X_nuevo,y_nuevo = self.load_data()\n",
    "            X_nuevo_Z, grilla_completa = self.trainning_model()\n",
    "            y_hat_nuevo = self.prediccion(X_nuevo_Z, grilla_completa)\n",
    "            metrica = self.evaluacion(y_nuevo, y_hat_nuevo)\n",
    "            return {\"Resultado\":True, \"Precision\":metrica}\n",
    "        except Exception as e:\n",
    "            return {\"Resultado\":False, \"Error\":str(e)}"
   ]
  },
  {
   "cell_type": "code",
   "execution_count": 8,
   "id": "22618987-d933-475f-9dcb-9b033cfdefed",
   "metadata": {},
   "outputs": [],
   "source": [
    "sistema = Modelo_clasificacion()\n",
    "Resultado = sistema.modeloClasificacion()"
   ]
  },
  {
   "cell_type": "code",
   "execution_count": 9,
   "id": "0ec77f57-c910-49d1-85f0-59bc01548a1f",
   "metadata": {},
   "outputs": [
    {
     "data": {
      "text/plain": [
       "{'Resultado': True, 'Precision': 1.0}"
      ]
     },
     "execution_count": 9,
     "metadata": {},
     "output_type": "execute_result"
    }
   ],
   "source": [
    "Resultado"
   ]
  }
 ],
 "metadata": {
  "kernelspec": {
   "display_name": "Python 3 (ipykernel)",
   "language": "python",
   "name": "python3"
  },
  "language_info": {
   "codemirror_mode": {
    "name": "ipython",
    "version": 3
   },
   "file_extension": ".py",
   "mimetype": "text/x-python",
   "name": "python",
   "nbconvert_exporter": "python",
   "pygments_lexer": "ipython3",
   "version": "3.10.11"
  }
 },
 "nbformat": 4,
 "nbformat_minor": 5
}
